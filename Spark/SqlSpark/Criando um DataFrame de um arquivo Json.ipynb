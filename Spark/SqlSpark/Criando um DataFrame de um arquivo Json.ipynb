{
 "cells": [
  {
   "cell_type": "code",
   "execution_count": 2,
   "id": "8c2539ea",
   "metadata": {},
   "outputs": [],
   "source": [
    "import findspark"
   ]
  },
  {
   "cell_type": "code",
   "execution_count": 3,
   "id": "1e144e1b",
   "metadata": {},
   "outputs": [
    {
     "data": {
      "text/plain": [
       "'C:\\\\Estudo\\\\Spark'"
      ]
     },
     "execution_count": 3,
     "metadata": {},
     "output_type": "execute_result"
    }
   ],
   "source": [
    "findspark.init()\n",
    "findspark.find()"
   ]
  },
  {
   "cell_type": "code",
   "execution_count": 4,
   "id": "4d69024f",
   "metadata": {},
   "outputs": [],
   "source": [
    "from pyspark.sql import SparkSession"
   ]
  },
  {
   "cell_type": "code",
   "execution_count": 5,
   "id": "0f31b963",
   "metadata": {},
   "outputs": [],
   "source": [
    "spark = SparkSession.builder.getOrCreate()"
   ]
  },
  {
   "cell_type": "code",
   "execution_count": 6,
   "id": "1954aee2",
   "metadata": {},
   "outputs": [
    {
     "data": {
      "text/html": [
       "\n",
       "            <div>\n",
       "                <p><b>SparkSession - in-memory</b></p>\n",
       "                \n",
       "        <div>\n",
       "            <p><b>SparkContext</b></p>\n",
       "\n",
       "            <p><a href=\"http://C11-YKZ9FI0XAXG.dir.svc.accenture.com:4041\">Spark UI</a></p>\n",
       "\n",
       "            <dl>\n",
       "              <dt>Version</dt>\n",
       "                <dd><code>v3.3.1</code></dd>\n",
       "              <dt>Master</dt>\n",
       "                <dd><code>local[*]</code></dd>\n",
       "              <dt>AppName</dt>\n",
       "                <dd><code>pyspark-shell</code></dd>\n",
       "            </dl>\n",
       "        </div>\n",
       "        \n",
       "            </div>\n",
       "        "
      ],
      "text/plain": [
       "<pyspark.sql.session.SparkSession at 0x237ff066c20>"
      ]
     },
     "execution_count": 6,
     "metadata": {},
     "output_type": "execute_result"
    }
   ],
   "source": [
    "spark"
   ]
  },
  {
   "cell_type": "code",
   "execution_count": 7,
   "id": "f989d758",
   "metadata": {},
   "outputs": [],
   "source": [
    "data_path = 'C:\\Estudo\\Projeto\\Python\\PySpark'"
   ]
  },
  {
   "cell_type": "code",
   "execution_count": 11,
   "id": "d14ad64b",
   "metadata": {},
   "outputs": [],
   "source": [
    "json_df1_path = data_path + '/utlization.json'\n",
    "df1 = spark.read.format(\"json\").load(json_df1_path)"
   ]
  },
  {
   "cell_type": "code",
   "execution_count": 12,
   "id": "bb713b86",
   "metadata": {},
   "outputs": [
    {
     "data": {
      "text/plain": [
       "500000"
      ]
     },
     "execution_count": 12,
     "metadata": {},
     "output_type": "execute_result"
    }
   ],
   "source": [
    "df1.count()"
   ]
  },
  {
   "cell_type": "code",
   "execution_count": 14,
   "id": "0949077b",
   "metadata": {},
   "outputs": [
    {
     "name": "stdout",
     "output_type": "stream",
     "text": [
      "+---------------+-------------------+-----------+---------+-------------+\n",
      "|cpu_utilization|     event_datetime|free_memory|server_id|session_count|\n",
      "+---------------+-------------------+-----------+---------+-------------+\n",
      "|           0.57|03/05/2019 08:06:14|       0.51|      100|           47|\n",
      "|           0.47|03/05/2019 08:11:14|       0.62|      100|           43|\n",
      "|           0.56|03/05/2019 08:16:14|       0.57|      100|           62|\n",
      "|           0.57|03/05/2019 08:21:14|       0.56|      100|           50|\n",
      "|           0.35|03/05/2019 08:26:14|       0.46|      100|           43|\n",
      "|           0.41|03/05/2019 08:31:14|       0.58|      100|           48|\n",
      "|           0.57|03/05/2019 08:36:14|       0.35|      100|           58|\n",
      "|           0.41|03/05/2019 08:41:14|        0.4|      100|           58|\n",
      "|           0.53|03/05/2019 08:46:14|       0.35|      100|           62|\n",
      "|           0.51|03/05/2019 08:51:14|        0.6|      100|           45|\n",
      "|           0.32|03/05/2019 08:56:14|       0.37|      100|           47|\n",
      "|           0.62|03/05/2019 09:01:14|       0.59|      100|           60|\n",
      "|           0.66|03/05/2019 09:06:14|       0.72|      100|           57|\n",
      "|           0.54|03/05/2019 09:11:14|       0.54|      100|           44|\n",
      "|           0.29|03/05/2019 09:16:14|        0.4|      100|           47|\n",
      "|           0.43|03/05/2019 09:21:14|       0.68|      100|           66|\n",
      "|           0.49|03/05/2019 09:26:14|       0.66|      100|           65|\n",
      "|           0.64|03/05/2019 09:31:14|       0.55|      100|           66|\n",
      "|           0.42|03/05/2019 09:36:14|        0.6|      100|           42|\n",
      "|           0.55|03/05/2019 09:41:14|       0.59|      100|           63|\n",
      "+---------------+-------------------+-----------+---------+-------------+\n",
      "only showing top 20 rows\n",
      "\n"
     ]
    }
   ],
   "source": [
    "df1.show()"
   ]
  },
  {
   "cell_type": "code",
   "execution_count": 16,
   "id": "b6d97d5c",
   "metadata": {},
   "outputs": [
    {
     "data": {
      "text/plain": [
       "['cpu_utilization',\n",
       " 'event_datetime',\n",
       " 'free_memory',\n",
       " 'server_id',\n",
       " 'session_count']"
      ]
     },
     "execution_count": 16,
     "metadata": {},
     "output_type": "execute_result"
    }
   ],
   "source": [
    "df1.columns"
   ]
  },
  {
   "cell_type": "code",
   "execution_count": 18,
   "id": "44a82d37",
   "metadata": {},
   "outputs": [],
   "source": [
    "df1_sample = df1.sample(False, fraction=0.1)"
   ]
  },
  {
   "cell_type": "code",
   "execution_count": 19,
   "id": "54e0800b",
   "metadata": {},
   "outputs": [
    {
     "name": "stdout",
     "output_type": "stream",
     "text": [
      "+---------------+-------------------+-----------+---------+-------------+\n",
      "|cpu_utilization|     event_datetime|free_memory|server_id|session_count|\n",
      "+---------------+-------------------+-----------+---------+-------------+\n",
      "|           0.62|03/05/2019 10:36:14|       0.36|      100|           50|\n",
      "|           0.49|03/05/2019 10:41:14|       0.65|      100|           59|\n",
      "|           0.55|03/05/2019 10:51:14|       0.42|      100|           60|\n",
      "|           0.32|03/05/2019 11:21:14|       0.47|      100|           48|\n",
      "|           0.65|03/05/2019 11:46:14|       0.68|      100|           59|\n",
      "|           0.37|03/05/2019 15:16:14|       0.53|      100|           62|\n",
      "|           0.46|03/05/2019 17:16:14|       0.69|      100|           41|\n",
      "|           0.63|03/05/2019 18:11:14|       0.59|      100|           67|\n",
      "|           0.64|03/05/2019 18:21:14|        0.6|      100|           67|\n",
      "|           0.39|03/05/2019 20:11:14|       0.41|      100|           70|\n",
      "|           0.31|03/05/2019 21:11:14|        0.6|      100|           62|\n",
      "|           0.57|03/05/2019 21:21:14|       0.33|      100|           43|\n",
      "|           0.49|03/06/2019 00:11:14|       0.55|      100|           48|\n",
      "|           0.43|03/06/2019 00:21:14|       0.63|      100|           53|\n",
      "|           0.54|03/06/2019 01:06:14|       0.58|      100|           68|\n",
      "|           0.51|03/06/2019 01:21:14|       0.41|      100|           70|\n",
      "|           0.51|03/06/2019 02:11:14|       0.67|      100|           65|\n",
      "|           0.66|03/06/2019 03:31:14|       0.37|      100|           37|\n",
      "|           0.34|03/06/2019 04:31:14|       0.42|      100|           46|\n",
      "|           0.27|03/06/2019 04:36:14|       0.57|      100|           58|\n",
      "+---------------+-------------------+-----------+---------+-------------+\n",
      "only showing top 20 rows\n",
      "\n"
     ]
    }
   ],
   "source": [
    "df1_sample.show()"
   ]
  },
  {
   "cell_type": "code",
   "execution_count": 20,
   "id": "6b295ee4",
   "metadata": {},
   "outputs": [],
   "source": [
    "df1_sort = df1_sample.sort('event_datetime')"
   ]
  },
  {
   "cell_type": "code",
   "execution_count": 21,
   "id": "c0bb4a9a",
   "metadata": {},
   "outputs": [
    {
     "name": "stdout",
     "output_type": "stream",
     "text": [
      "+---------------+-------------------+-----------+---------+-------------+\n",
      "|cpu_utilization|     event_datetime|free_memory|server_id|session_count|\n",
      "+---------------+-------------------+-----------+---------+-------------+\n",
      "|           0.84|03/05/2019 08:06:21|       0.36|      104|           94|\n",
      "|           0.54|03/05/2019 08:06:23|       0.38|      105|           74|\n",
      "|           0.62|03/05/2019 08:06:28|       0.41|      108|           86|\n",
      "|           0.71|03/05/2019 08:06:34|       0.27|      112|           86|\n",
      "|           0.66|03/05/2019 08:06:48|       0.31|      120|           54|\n",
      "|           0.81|03/05/2019 08:06:50|       0.42|      121|           84|\n",
      "|           0.52|03/05/2019 08:07:00|       0.49|      127|           75|\n",
      "|            0.6|03/05/2019 08:07:03|       0.48|      129|           80|\n",
      "|           0.59|03/05/2019 08:11:17|       0.13|      102|           70|\n",
      "|           0.75|03/05/2019 08:11:33|       0.28|      111|           48|\n",
      "|           0.78|03/05/2019 08:11:36|       0.38|      113|           83|\n",
      "|           0.47|03/05/2019 08:12:00|       0.32|      127|           65|\n",
      "|           0.54|03/05/2019 08:12:21|       0.45|      138|           39|\n",
      "|           0.44|03/05/2019 08:16:33|       0.37|      111|           81|\n",
      "|           0.46|03/05/2019 08:16:43|       0.53|      117|           58|\n",
      "|           0.42|03/05/2019 08:17:01|       0.44|      128|           50|\n",
      "|           0.76|03/05/2019 08:17:07|       0.41|      131|           63|\n",
      "|           0.26|03/05/2019 08:21:24|       0.45|      106|           38|\n",
      "|           0.46|03/05/2019 08:21:33|       0.27|      111|           74|\n",
      "|           0.44|03/05/2019 08:21:43|       0.35|      117|           64|\n",
      "+---------------+-------------------+-----------+---------+-------------+\n",
      "only showing top 20 rows\n",
      "\n"
     ]
    }
   ],
   "source": [
    "df1_sort.show()"
   ]
  }
 ],
 "metadata": {
  "kernelspec": {
   "display_name": "Python 3 (ipykernel)",
   "language": "python",
   "name": "python3"
  },
  "language_info": {
   "codemirror_mode": {
    "name": "ipython",
    "version": 3
   },
   "file_extension": ".py",
   "mimetype": "text/x-python",
   "name": "python",
   "nbconvert_exporter": "python",
   "pygments_lexer": "ipython3",
   "version": "3.10.7"
  }
 },
 "nbformat": 4,
 "nbformat_minor": 5
}
